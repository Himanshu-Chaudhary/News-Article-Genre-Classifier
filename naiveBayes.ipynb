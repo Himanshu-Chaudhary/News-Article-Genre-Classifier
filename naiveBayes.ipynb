{
 "cells": [
  {
   "cell_type": "code",
   "execution_count": 1,
   "metadata": {},
   "outputs": [],
   "source": [
    "from pandas import read_csv , concat , DataFrame\n",
    "import numpy as np\n",
    "from collections import Counter\n",
    "from pprint import pprint\n",
    "import math\n",
    "import csv\n",
    "import random\n",
    "from sklearn.model_selection import train_test_split\n",
    "from matplotlib import pyplot as plt"
   ]
  },
  {
   "cell_type": "code",
   "execution_count": 2,
   "metadata": {
    "collapsed": true
   },
   "outputs": [
    {
     "ename": "KeyboardInterrupt",
     "evalue": "",
     "output_type": "error",
     "traceback": [
      "\u001b[0;31m---------------------------------------------------------------------------\u001b[0m",
      "\u001b[0;31mKeyboardInterrupt\u001b[0m                         Traceback (most recent call last)",
      "\u001b[0;32m<ipython-input-2-99a43ea78e4c>\u001b[0m in \u001b[0;36m<module>\u001b[0;34m()\u001b[0m\n\u001b[1;32m      1\u001b[0m \u001b[0;31m# import the training data as chunks\u001b[0m\u001b[0;34m\u001b[0m\u001b[0;34m\u001b[0m\u001b[0m\n\u001b[0;32m----> 2\u001b[0;31m \u001b[0mdataFrame\u001b[0m \u001b[0;34m=\u001b[0m \u001b[0mread_csv\u001b[0m\u001b[0;34m(\u001b[0m\u001b[0;34m'data/training.csv'\u001b[0m\u001b[0;34m,\u001b[0m\u001b[0mheader\u001b[0m \u001b[0;34m=\u001b[0m \u001b[0;32mNone\u001b[0m\u001b[0;34m)\u001b[0m\u001b[0;34m\u001b[0m\u001b[0m\n\u001b[0m",
      "\u001b[0;32m~/.local/lib/python3.5/site-packages/pandas/io/parsers.py\u001b[0m in \u001b[0;36mparser_f\u001b[0;34m(filepath_or_buffer, sep, delimiter, header, names, index_col, usecols, squeeze, prefix, mangle_dupe_cols, dtype, engine, converters, true_values, false_values, skipinitialspace, skiprows, nrows, na_values, keep_default_na, na_filter, verbose, skip_blank_lines, parse_dates, infer_datetime_format, keep_date_col, date_parser, dayfirst, iterator, chunksize, compression, thousands, decimal, lineterminator, quotechar, quoting, escapechar, comment, encoding, dialect, tupleize_cols, error_bad_lines, warn_bad_lines, skipfooter, doublequote, delim_whitespace, low_memory, memory_map, float_precision)\u001b[0m\n\u001b[1;32m    676\u001b[0m                     skip_blank_lines=skip_blank_lines)\n\u001b[1;32m    677\u001b[0m \u001b[0;34m\u001b[0m\u001b[0m\n\u001b[0;32m--> 678\u001b[0;31m         \u001b[0;32mreturn\u001b[0m \u001b[0m_read\u001b[0m\u001b[0;34m(\u001b[0m\u001b[0mfilepath_or_buffer\u001b[0m\u001b[0;34m,\u001b[0m \u001b[0mkwds\u001b[0m\u001b[0;34m)\u001b[0m\u001b[0;34m\u001b[0m\u001b[0m\n\u001b[0m\u001b[1;32m    679\u001b[0m \u001b[0;34m\u001b[0m\u001b[0m\n\u001b[1;32m    680\u001b[0m     \u001b[0mparser_f\u001b[0m\u001b[0;34m.\u001b[0m\u001b[0m__name__\u001b[0m \u001b[0;34m=\u001b[0m \u001b[0mname\u001b[0m\u001b[0;34m\u001b[0m\u001b[0m\n",
      "\u001b[0;32m~/.local/lib/python3.5/site-packages/pandas/io/parsers.py\u001b[0m in \u001b[0;36m_read\u001b[0;34m(filepath_or_buffer, kwds)\u001b[0m\n\u001b[1;32m    444\u001b[0m \u001b[0;34m\u001b[0m\u001b[0m\n\u001b[1;32m    445\u001b[0m     \u001b[0;32mtry\u001b[0m\u001b[0;34m:\u001b[0m\u001b[0;34m\u001b[0m\u001b[0m\n\u001b[0;32m--> 446\u001b[0;31m         \u001b[0mdata\u001b[0m \u001b[0;34m=\u001b[0m \u001b[0mparser\u001b[0m\u001b[0;34m.\u001b[0m\u001b[0mread\u001b[0m\u001b[0;34m(\u001b[0m\u001b[0mnrows\u001b[0m\u001b[0;34m)\u001b[0m\u001b[0;34m\u001b[0m\u001b[0m\n\u001b[0m\u001b[1;32m    447\u001b[0m     \u001b[0;32mfinally\u001b[0m\u001b[0;34m:\u001b[0m\u001b[0;34m\u001b[0m\u001b[0m\n\u001b[1;32m    448\u001b[0m         \u001b[0mparser\u001b[0m\u001b[0;34m.\u001b[0m\u001b[0mclose\u001b[0m\u001b[0;34m(\u001b[0m\u001b[0;34m)\u001b[0m\u001b[0;34m\u001b[0m\u001b[0m\n",
      "\u001b[0;32m~/.local/lib/python3.5/site-packages/pandas/io/parsers.py\u001b[0m in \u001b[0;36mread\u001b[0;34m(self, nrows)\u001b[0m\n\u001b[1;32m   1034\u001b[0m                 \u001b[0;32mraise\u001b[0m \u001b[0mValueError\u001b[0m\u001b[0;34m(\u001b[0m\u001b[0;34m'skipfooter not supported for iteration'\u001b[0m\u001b[0;34m)\u001b[0m\u001b[0;34m\u001b[0m\u001b[0m\n\u001b[1;32m   1035\u001b[0m \u001b[0;34m\u001b[0m\u001b[0m\n\u001b[0;32m-> 1036\u001b[0;31m         \u001b[0mret\u001b[0m \u001b[0;34m=\u001b[0m \u001b[0mself\u001b[0m\u001b[0;34m.\u001b[0m\u001b[0m_engine\u001b[0m\u001b[0;34m.\u001b[0m\u001b[0mread\u001b[0m\u001b[0;34m(\u001b[0m\u001b[0mnrows\u001b[0m\u001b[0;34m)\u001b[0m\u001b[0;34m\u001b[0m\u001b[0m\n\u001b[0m\u001b[1;32m   1037\u001b[0m \u001b[0;34m\u001b[0m\u001b[0m\n\u001b[1;32m   1038\u001b[0m         \u001b[0;31m# May alter columns / col_dict\u001b[0m\u001b[0;34m\u001b[0m\u001b[0;34m\u001b[0m\u001b[0m\n",
      "\u001b[0;32m~/.local/lib/python3.5/site-packages/pandas/io/parsers.py\u001b[0m in \u001b[0;36mread\u001b[0;34m(self, nrows)\u001b[0m\n\u001b[1;32m   1846\u001b[0m     \u001b[0;32mdef\u001b[0m \u001b[0mread\u001b[0m\u001b[0;34m(\u001b[0m\u001b[0mself\u001b[0m\u001b[0;34m,\u001b[0m \u001b[0mnrows\u001b[0m\u001b[0;34m=\u001b[0m\u001b[0;32mNone\u001b[0m\u001b[0;34m)\u001b[0m\u001b[0;34m:\u001b[0m\u001b[0;34m\u001b[0m\u001b[0m\n\u001b[1;32m   1847\u001b[0m         \u001b[0;32mtry\u001b[0m\u001b[0;34m:\u001b[0m\u001b[0;34m\u001b[0m\u001b[0m\n\u001b[0;32m-> 1848\u001b[0;31m             \u001b[0mdata\u001b[0m \u001b[0;34m=\u001b[0m \u001b[0mself\u001b[0m\u001b[0;34m.\u001b[0m\u001b[0m_reader\u001b[0m\u001b[0;34m.\u001b[0m\u001b[0mread\u001b[0m\u001b[0;34m(\u001b[0m\u001b[0mnrows\u001b[0m\u001b[0;34m)\u001b[0m\u001b[0;34m\u001b[0m\u001b[0m\n\u001b[0m\u001b[1;32m   1849\u001b[0m         \u001b[0;32mexcept\u001b[0m \u001b[0mStopIteration\u001b[0m\u001b[0;34m:\u001b[0m\u001b[0;34m\u001b[0m\u001b[0m\n\u001b[1;32m   1850\u001b[0m             \u001b[0;32mif\u001b[0m \u001b[0mself\u001b[0m\u001b[0;34m.\u001b[0m\u001b[0m_first_chunk\u001b[0m\u001b[0;34m:\u001b[0m\u001b[0;34m\u001b[0m\u001b[0m\n",
      "\u001b[0;32mpandas/_libs/parsers.pyx\u001b[0m in \u001b[0;36mpandas._libs.parsers.TextReader.read\u001b[0;34m()\u001b[0m\n",
      "\u001b[0;32mpandas/_libs/parsers.pyx\u001b[0m in \u001b[0;36mpandas._libs.parsers.TextReader._read_low_memory\u001b[0;34m()\u001b[0m\n",
      "\u001b[0;32mpandas/_libs/parsers.pyx\u001b[0m in \u001b[0;36mpandas._libs.parsers._concatenate_chunks\u001b[0;34m()\u001b[0m\n",
      "\u001b[0;32m~/.local/lib/python3.5/site-packages/pandas/core/dtypes/common.py\u001b[0m in \u001b[0;36mis_categorical_dtype\u001b[0;34m(arr_or_dtype)\u001b[0m\n\u001b[1;32m    511\u001b[0m \u001b[0;34m\u001b[0m\u001b[0m\n\u001b[1;32m    512\u001b[0m \u001b[0;34m\u001b[0m\u001b[0m\n\u001b[0;32m--> 513\u001b[0;31m \u001b[0;32mdef\u001b[0m \u001b[0mis_categorical_dtype\u001b[0m\u001b[0;34m(\u001b[0m\u001b[0marr_or_dtype\u001b[0m\u001b[0;34m)\u001b[0m\u001b[0;34m:\u001b[0m\u001b[0;34m\u001b[0m\u001b[0m\n\u001b[0m\u001b[1;32m    514\u001b[0m     \"\"\"\n\u001b[1;32m    515\u001b[0m     \u001b[0mCheck\u001b[0m \u001b[0mwhether\u001b[0m \u001b[0man\u001b[0m \u001b[0marray\u001b[0m\u001b[0;34m-\u001b[0m\u001b[0mlike\u001b[0m \u001b[0;32mor\u001b[0m \u001b[0mdtype\u001b[0m \u001b[0;32mis\u001b[0m \u001b[0mof\u001b[0m \u001b[0mthe\u001b[0m \u001b[0mCategorical\u001b[0m \u001b[0mdtype\u001b[0m\u001b[0;34m.\u001b[0m\u001b[0;34m\u001b[0m\u001b[0m\n",
      "\u001b[0;31mKeyboardInterrupt\u001b[0m: "
     ]
    }
   ],
   "source": [
    "# import the training data as chunks\n",
    "dataFrame = read_csv('data/training.csv',header = None)"
   ]
  },
  {
   "cell_type": "code",
   "execution_count": 19,
   "metadata": {},
   "outputs": [],
   "source": [
    "def getHighestWordList():\n",
    "    location = 'data/training.csv'\n",
    "    length = 61189\n",
    "    data  = [np.empty([3000,61188]) for x in range(20)]\n",
    "    c = [0 for x in range(20)]\n",
    "    v = length -1\n",
    "    b = 1/v\n",
    "    \n",
    "    with open(location, 'r') as f:\n",
    "        reader = csv.reader(f)\n",
    "        count = 1\n",
    "        for row in reader:\n",
    "            label = int(row[length])-1\n",
    "            newData = row[1:length]\n",
    "            data[label][c[label]] = newData\n",
    "            c[label]+=1\n",
    "            count = count+1\n",
    "            if (count % 1000 == 0):\n",
    "                print(\"looping\")\n",
    "        print (\"done\")\n",
    "    f.close()    \n",
    "    data = [data[x][0:(c[x]+1)] for x in range(20)]\n",
    "    \n",
    "    total = [x.shape[0] for x in data]\n",
    "    totalWords = [np.sum(x) for x in data]\n",
    "    xCounts = np.empty([20,61188])\n",
    "    for i in range(20):\n",
    "        xCounts[i]=np.sum(data[i],axis=0)\n",
    "    py1 = total/np.sum(total)\n",
    "    pxy1 = np.array([(x[0]+b)/(x[1]+(b*length)) for x in zip(xCounts,totalWords)])\n",
    "    pxy = np.log2(pxy1)\n",
    "    py = np.log2(py1)\n",
    "    pxyt = pxy.transpose()\n",
    "    \n",
    "    xsum = xCounts.sum()\n",
    "    px = np.divide(np.add(1,xCounts).sum(axis=0),xsum)\n",
    "    \n",
    "    nw = ((pxy1.transpose()*py1).sum(axis=1))\n",
    "    nw1 = nw/(px)\n",
    "    \n",
    "    highestindex = np.argsort(-nw1).tolist()\n",
    "    \n",
    "    vocabname = \"data/vocabulary.txt\" \n",
    "    vocab = []\n",
    "    f = open(vocabname)\n",
    "    filecontents = f.readlines()\n",
    "    for line in filecontents:\n",
    "        vocab.append(line[0:-1])\n",
    "    print (\"done\")\n",
    "    \n",
    "    highestwords = [vocab[highestindex[i]] for i in range(100)]\n",
    "    print (highestwords)   "
   ]
  },
  {
   "cell_type": "code",
   "execution_count": 20,
   "metadata": {},
   "outputs": [
    {
     "name": "stdout",
     "output_type": "stream",
     "text": [
      "looping\n",
      "looping\n",
      "looping\n",
      "looping\n",
      "looping\n",
      "looping\n",
      "looping\n",
      "looping\n",
      "looping\n",
      "looping\n",
      "looping\n",
      "looping\n",
      "done\n",
      "done\n",
      "['wolverine', 'shipping', 'hulk', 'sale', 'sabretooth', 'comics', 'liefeld', 'hobgoblin', 'obo', 'bagged', 'spider', 'punisher', 'condition', 'forsale', 'ghost', 'offer', 'marvel', 'stereo', 'meg', 'scsi', 'manuals', 'rider', 'mint', 'art', 'cable', 'brand', 'motherboard', 'controller', 'drive', 'mhz', 'mb', 'mutants', 'panther', 'disks', 'cd', 'drives', 'pom', 'ide', 'monitor', 'modem', 'simms', 'floppy', 'keown', 'card', 'adapter', 'battery', 'ram', 'sony', 'printer', 'excellent', 'hz', 'disk', 'manual', 'price', 'cassette', 'cod', 'pin', 'hd', 'warranty', 'dx', 'mcfarlane', 'tape', 'offers', 'appears', 'selling', 'asking', 'mac', 'amp', 'nm', 'duo', 'bios', 'vf', 'bike', 'vga', 'lc', 'port', 'connector', 'items', 'sell', 'external', 'upgrade', 'board', 'sega', 'quadra', 'app', 'geoffrey', 'cpu', 'fpu', 'cards', 'prices', 'annual', 'dod', 'video', 'slot', 'car', 'audio', 'appearance', 'docs', 'cache', 'centris']\n"
     ]
    }
   ],
   "source": [
    "getHighestWordList()"
   ]
  },
  {
   "cell_type": "code",
   "execution_count": null,
   "metadata": {},
   "outputs": [],
   "source": [
    "def naiveBayes(traindf, testdf, validating = False, beta = 1): \n",
    "    trainingLabels = traindf.iloc[:,-1].values\n",
    "    validatingLabels = testdf.iloc[:,-1].values\n",
    "    validatingLabelsNames = testdf.iloc[:,0].values\n",
    "    validatingSet = dict([list(a) for a in zip(validatingLabelsNames, validatingLabels)])\n",
    "    totalDocuments = len(trainingLabels)\n",
    "    totalValidationDocuments = len(validatingLabels)\n",
    "    \n",
    "    print(\"the length of trainningLabels is ====  \" + str(totalDocuments))\n",
    "    print(\"the length of ValidatingLabels is ====  \" + str(totalValidationDocuments))\n",
    "    \n",
    "    traindf.drop(traindf.columns[[-1,0]],axis = 1, inplace=True)\n",
    "    trainingClassCount = Counter()\n",
    "    for val in trainingLabels:\n",
    "        trainingClassCount[val] += 1\n",
    "    \n",
    "    allLabels = np.unique(trainingLabels)\n",
    "    totalClassCount = len(allLabels)\n",
    "    sortedClassCount = sorted(trainingClassCount.items())\n",
    "    classCount = [y for (x,y) in sortedClassCount]\n",
    "    #print(classCount)\n",
    "    logPriorProb = [math.log(x/totalDocuments) for x in classCount]\n",
    "    trainingMatrix = np.array(traindf.values)\n",
    "    totalWords = len(trainingMatrix[0])\n",
    "   \n",
    "    dividedOnClass = [[x for x, y in zip(trainingMatrix,trainingLabels) if y == c] for c in allLabels]\n",
    "    tempTable = [np.array(val).sum(axis=0)for val in dividedOnClass]\n",
    "    smoother = beta if validating else 1 / totalWords\n",
    "    #print(smoother)\n",
    "    smoothCount = np.array(tempTable) + smoother\n",
    "    totalWordInEachClass = [sum(val) for val in tempTable]\n",
    "    totalWordInEachClassSmooth = np.array(totalWordInEachClass) + beta*totalWords\n",
    "    likelihood = np.array([ x / y for x , y in zip (smoothCount,totalWordInEachClassSmooth)])\n",
    "    logLikelihood = np.array([np.log(val) for val in likelihood])\n",
    "    \n",
    "    \n",
    "    testingDataFrame = testdf.iloc[:, :-1] if validating else testdf\n",
    "    testingId = testingDataFrame.iloc[:,0].values\n",
    "    #pprint(testingDataFrame)\n",
    "    #print(testingId)\n",
    "    testingDataFrame.drop(testingDataFrame.columns[0,],axis=1,inplace=True)\n",
    "    testingVals = np.array(testingDataFrame.values)\n",
    "    #print(testingVals)\n",
    "    probEstimation = [logLikelihood.dot(val) for val in testingVals]\n",
    "    totalProbEstimation = [[x + y for x,y in zip(logPriorProb, val)] for val in probEstimation]\n",
    "    prediction = [val.index(max(val))+1 for val in totalProbEstimation]\n",
    "    csvData = [ [docId , p]  for docId,p in zip (testingId,prediction)]\n",
    "    if not(validating):\n",
    "        csvData = [['id','class']] + csvData\n",
    "        with open('data/submission.csv', 'w',newline='') as csvFile:\n",
    "            writer = csv.writer(csvFile)\n",
    "            writer.writerows(csvData)\n",
    "    \n",
    "    return (validatingSet , dict(csvData))\n"
   ]
  },
  {
   "cell_type": "code",
   "execution_count": null,
   "metadata": {},
   "outputs": [],
   "source": [
    "def accuracy(predicted, actual):    \n",
    "    predictiondict =  predicted\n",
    "    actualdict = actual\n",
    "    totalwords = len(predicted)\n",
    "    correct = 0\n",
    "    for key in actual.keys():\n",
    "        if actual.get(key) == predicted.get(key):\n",
    "            correct += 1\n",
    "    print(\"accuracy ==========\"+ str(correct/totalwords))\n",
    "    return (correct/totalwords)"
   ]
  },
  {
   "cell_type": "code",
   "execution_count": null,
   "metadata": {},
   "outputs": [],
   "source": [
    "trainningdf = read_csv('data/testing.csv',header = None)"
   ]
  },
  {
   "cell_type": "code",
   "execution_count": null,
   "metadata": {},
   "outputs": [],
   "source": [
    "trndf, tstdf = train_test_split(dataFrame, test_size=0.2)\n",
    "\n",
    "#x = [0.0001, 0.0005, 0.001, 0.005, 0.01, 0.05, 0.1, 0.5,1]\n",
    "x = np.arange(0.00001, 1, 0.02)\n",
    "x = [np.log(x) for xx in x]\n",
    "y =[]\n",
    "for beta in x:\n",
    "    validating, prediction = naiveBayes(traindf = trndf.copy(), testdf= tstdf.copy(), validating = True, beta = beta)\n",
    "    y.append(accuracy(predicted = prediction, actual = validating))\n",
    "    print(y)"
   ]
  },
  {
   "cell_type": "code",
   "execution_count": 32,
   "metadata": {},
   "outputs": [
    {
     "name": "stdout",
     "output_type": "stream",
     "text": [
      "100\n"
     ]
    },
    {
     "data": {
      "image/png": "[encoded data removed]",
      "text/plain": [
       "<Figure size 432x288 with 1 Axes>"
      ]
     },
     "metadata": {
      "needs_background": "light"
     },
     "output_type": "display_data"
    }
   ],
   "source": [
    "#value saved after running the algorithm for 2 hours with 100 beta values.\n",
    "x = np.arange(0.00001, 1, 0.01)\n",
    "x = np.log10(x)\n",
    "y = [0.8566666666666667, 0.8658333333333333, 0.8675, 0.8675, 0.8670833333333333, 0.8675, 0.8691666666666666, 0.86875, \n",
    "0.86875, 0.8695833333333334, 0.8683333333333333, 0.8683333333333333, 0.8670833333333333, 0.8670833333333333, 0.8670833333333333,\n",
    "0.8666666666666667, 0.8666666666666667, 0.86625, 0.8654166666666666, 0.8654166666666666, 0.865, 0.865, 0.865, 0.865, \n",
    "0.8645833333333334, 0.8629166666666667, 0.8625, 0.8616666666666667, 0.8616666666666667, 0.8604166666666667, 0.86, 0.86, \n",
    "0.86, 0.86, 0.8595833333333334, 0.86, 0.8595833333333334, 0.8575, 0.8566666666666667, 0.85625, 0.8554166666666667,\n",
    "0.8545833333333334, 0.8533333333333334, 0.85375, 0.8541666666666666, 0.8545833333333334, 0.8541666666666666, 0.8533333333333334,\n",
    "0.8525, 0.8520833333333333, 0.8516666666666667, 0.8508333333333333, 0.8508333333333333, 0.8504166666666667, 0.85,\n",
    "0.8491666666666666, 0.8479166666666667, 0.8475, 0.8470833333333333, 0.84625, 0.8458333333333333, 0.8454166666666667, \n",
    "0.8454166666666667, 0.8454166666666667, 0.845, 0.845, 0.8445833333333334, 0.84375, 0.8433333333333334, 0.8433333333333334, \n",
    "0.8433333333333334, 0.8433333333333334, 0.8429166666666666, 0.8420833333333333, 0.8404166666666667, 0.84, 0.84, \n",
    "0.8404166666666667, 0.8395833333333333, 0.8391666666666666, 0.8391666666666666, 0.8375, 0.8375, 0.8375, 0.8370833333333333, \n",
    "0.8366666666666667, 0.8358333333333333, 0.8358333333333333, 0.8354166666666667, 0.8354166666666667, 0.8354166666666667, \n",
    "0.8354166666666667, 0.8354166666666667, 0.8345833333333333, 0.8341666666666666, 0.8333333333333334, 0.8329166666666666, \n",
    "0.8325, 0.8316666666666667, 0.83125]\n",
    "\n",
    "print(len(y))\n",
    "plt.plot(x,y)\n",
    "plt.show()"
   ]
  },
  {
   "cell_type": "code",
   "execution_count": null,
   "metadata": {},
   "outputs": [],
   "source": [
    "#confusuion matrix\n",
    "\n",
    "def confusionMatrix(actual, predicion):\n",
    "    classes = set(actual.values())\n",
    "    size = len(classes)\n",
    "    matrix = np.zeros(shape=(size,size))\n",
    "    \n",
    "    for k,v in prediction.items():\n",
    "         matrix[v-1][actual.get(k)-1] += 1\n",
    "    return matrix\n"
   ]
  },
  {
   "cell_type": "code",
   "execution_count": null,
   "metadata": {},
   "outputs": [],
   "source": [
    "cMatrix = DataFrame(confusionMatrix(actual = validating, predicion = prediction))\n",
    "print(dataFrame.head())"
   ]
  },
  {
   "cell_type": "code",
   "execution_count": 25,
   "metadata": {},
   "outputs": [
    {
     "name": "stdout",
     "output_type": "stream",
     "text": [
      "[ 1.          3.31662479  4.58257569  5.56776436  6.40312424  7.14142843\n",
      "  7.81024968  8.42614977  9.          9.53939201 10.04987562 10.53565375\n",
      " 11.         11.44552314 11.87434209 12.28820573 12.68857754 13.07669683\n",
      " 13.45362405 13.82027496 14.17744688 14.52583905 14.86606875 15.19868415\n",
      " 15.5241747  15.84297952 16.15549442 16.46207763 16.76305461 17.05872211\n",
      " 17.34935157 17.63519209 17.91647287 18.1934054  18.46618531 18.734994\n",
      " 19.         19.26136028 19.5192213  19.77371993 20.02498439 20.27313493\n",
      " 20.51828453 20.76053949 21.         21.23676058 21.47091055 21.70253441\n",
      " 21.9317122  22.15851981]\n"
     ]
    }
   ],
   "source": [
    "x = np.arange(1, 500, 10)\n",
    "x = np.sqrt(x)\n",
    "\n",
    "print(x)"
   ]
  },
  {
   "cell_type": "raw",
   "metadata": {},
   "source": [
    "Saved values of y from running the algorithm on a list of beta => x = np.arange(0.00001, 1, 0.01)\n",
    "\n",
    "   ''' y = [0.8566666666666667, 0.8658333333333333, 0.8675, 0.8675, 0.8670833333333333, 0.8675, 0.8691666666666666, 0.86875, \n",
    "0.86875, 0.8695833333333334, 0.8683333333333333, 0.8683333333333333, 0.8670833333333333, 0.8670833333333333, 0.8670833333333333,\n",
    "0.8666666666666667, 0.8666666666666667, 0.86625, 0.8654166666666666, 0.8654166666666666, 0.865, 0.865, 0.865, 0.865, \n",
    "0.8645833333333334, 0.8629166666666667, 0.8625, 0.8616666666666667, 0.8616666666666667, 0.8604166666666667, 0.86, 0.86, \n",
    "0.86, 0.86, 0.8595833333333334, 0.86, 0.8595833333333334, 0.8575, 0.8566666666666667, 0.85625, 0.8554166666666667,\n",
    "0.8545833333333334, 0.8533333333333334, 0.85375, 0.8541666666666666, 0.8545833333333334, 0.8541666666666666, 0.8533333333333334,\n",
    "0.8525, 0.8520833333333333, 0.8516666666666667, 0.8508333333333333, 0.8508333333333333, 0.8504166666666667, 0.85,\n",
    "0.8491666666666666, 0.8479166666666667, 0.8475, 0.8470833333333333, 0.84625, 0.8458333333333333, 0.8454166666666667, \n",
    "0.8454166666666667, 0.8454166666666667, 0.845, 0.845, 0.8445833333333334, 0.84375, 0.8433333333333334, 0.8433333333333334, \n",
    "0.8433333333333334, 0.8433333333333334, 0.8429166666666666, 0.8420833333333333, 0.8404166666666667, 0.84, 0.84, \n",
    "0.8404166666666667, 0.8395833333333333, 0.8391666666666666, 0.8391666666666666, 0.8375, 0.8375, 0.8375, 0.8370833333333333, \n",
    "0.8366666666666667, 0.8358333333333333, 0.8358333333333333, 0.8354166666666667, 0.8354166666666667, 0.8354166666666667, \n",
    "0.8354166666666667, 0.8354166666666667, 0.8345833333333333, 0.8341666666666666, 0.8333333333333334, 0.8329166666666666, \n",
    "0.8325, 0.8316666666666667, 0.83125]''' \n",
    "\n",
    "#pprint(totalWordInEachClass)"
   ]
  }
 ],
 "metadata": {
  "kernelspec": {
   "display_name": "Python 3",
   "language": "python",
   "name": "python3"
  },
  "language_info": {
   "codemirror_mode": {
    "name": "ipython",
    "version": 3
   },
   "file_extension": ".py",
   "mimetype": "text/x-python",
   "name": "python",
   "nbconvert_exporter": "python",
   "pygments_lexer": "ipython3",
   "version": "3.5.2"
  }
 },
 "nbformat": 4,
 "nbformat_minor": 1
}
