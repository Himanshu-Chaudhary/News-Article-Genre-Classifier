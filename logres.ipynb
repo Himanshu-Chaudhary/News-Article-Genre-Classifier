{
 "cells": [
  {
   "cell_type": "code",
   "execution_count": 3,
   "metadata": {},
   "outputs": [],
   "source": [
    "import numpy as np\n",
    "import csv\n",
    "import random\n",
    "from scipy.sparse import csr_matrix\n",
    "\n",
    "class Logres:\n",
    "    \"\"\"This class is a Logistic regression classifier, which reads data and calculates the weight matrix for it and \n",
    "    predicts the output\"\"\"\n",
    "    \n",
    "    def __init__(self):\n",
    "        \n",
    "        self.length = 61189\n",
    "        self.w = np.empty([20,61189])\n",
    "        self.data  = np.empty([15000,61189])\n",
    "        self.n = 0.01\n",
    "        self.l = 0.01\n",
    "\n",
    "    def readData(self,location):\n",
    "        data  = np.zeros([15000,61189]) #to store data, creates a big array to fit all\n",
    "        length = self.length\n",
    "        c = 0\n",
    "        #reads data line by line and stores it in numpy matrix\n",
    "        with open(location, 'r') as f:\n",
    "            reader = csv.reader(f)\n",
    "            count = 1\n",
    "            for row in reader:\n",
    "                newData = row[1:length+1]\n",
    "                data[c] = newData         # fills each row with new data\n",
    "                c+=1\n",
    "                count = count+1\n",
    "                if (count % 1000 == 0):\n",
    "                    print(\"looping\")\n",
    "            print (\"done\")\n",
    "        f.close()\n",
    "        data = data[0:(c+1)] #removes unfilled rows\n",
    "        return data\n",
    "\n",
    "    def setData(self,data):\n",
    "        ###perfroms changes of data to match the equation \n",
    "        length = self.length\n",
    "        self.realY = data[:,length-1]   #label values\n",
    "        data = np.delete(data,length-1,axis=1)  #removes the last column\n",
    "        data = np.hstack((np.ones((data.shape[0],1)),data)) #adds i in the first column\n",
    "        \n",
    "        #creates delta matrix \n",
    "        self.y = np.array([[1 if (x1==x2+1) else 0 for x1 in self.realY] for x2 in range(20)])\n",
    "        self.data = data\n",
    "\n",
    "    def logres(self):\n",
    "        w = self.w\n",
    "        self.bestw = w\n",
    "        bestloss = 10e10\n",
    "        s = csr_matrix(self.data)  #sparse matrix for fast multiplication\n",
    "        y = self.y\n",
    "        l = self.l\n",
    "        n = self.n\n",
    "\n",
    "        count = 0\n",
    "        for i in range (500):\n",
    "            previousw = w\n",
    "            \n",
    "            #calculate the probability matrix\n",
    "            pxy1 = np.exp(np.divide((w*s.transpose()),10000))\n",
    "            \n",
    "            #replacing last row with one and normalizing\n",
    "            pxy1[:,pxy1.shape[1]-1] = np.ones([1,20])\n",
    "            pxy1 = pxy1/pxy1.sum(axis=0,keepdims=1)\n",
    "            \n",
    "            #difference between delta and probability\n",
    "            diff1 = np.subtract(y,pxy1)\n",
    "            \n",
    "            #regularization factor\n",
    "            lw1 = np.multiply(l,w)\n",
    "            ypx1 = diff1*s\n",
    "            final = np.subtract(ypx1,lw1)\n",
    "            \n",
    "            #updating weight\n",
    "            w = np.add(w,np.multiply(n,final))\n",
    "            self.w = w\n",
    "            count = count+1\n",
    "            loss = abs(np.absolute(np.subtract(np.argmax(s*w.transpose(),axis=1)+1,self.realY)).sum())\n",
    "            loss2 = np.max(np.abs(np.subtract(previousw,w)))\n",
    "            if (loss<bestloss):\n",
    "                bestw = w\n",
    "            if (loss<1e-4):\n",
    "                break\n",
    "            if (count % 10 == 0):\n",
    "                print(loss)\n",
    "                print(loss2)\n",
    "                print(\"looping\")\n",
    "        print (\"done\")\n",
    "        self.w = w\n",
    "\n",
    "    def predict(self,newdata):\n",
    "        ### predicts the label of the given data with respect to current weight matrix\n",
    "        e1 = np.matmul(self.w,newdata.transpose())\n",
    "        return np.argmax(e1)+1\n",
    "\n",
    "    def predictTofile(self,location):\n",
    "        ### writes the prediction as a csv file\n",
    "        print (\"predicting\")\n",
    "        temp = np.empty([1,61189])\n",
    "        with open(location,'r') as csvFileObject:\n",
    "            prediction = [['id','class']]\n",
    "            csvReader = csv.reader(csvFileObject)\n",
    "            count = 0\n",
    "            #loops through each line and calls pred\n",
    "            for line in csvReader:\n",
    "                id = line[0]\n",
    "                line[0]=1\n",
    "                temp[0] = line\n",
    "                prediction.append([id,self.predict(temp)])\n",
    "            print (\"writing\")\n",
    "            predictionFile = open('predict.csv','w')\n",
    "            with predictionFile:\n",
    "                writer = csv.writer(predictionFile)\n",
    "                writer.writerows(prediction)\n",
    "\n",
    "    def test(self,trainData,l,n,testData):\n",
    "        ###created to test the classifier for different values of variables\n",
    "        ###given an input and testData, this method returns real labels and predicted labels\n",
    "        \n",
    "        #sets the given data\n",
    "        self.setData(trainData)\n",
    "        \n",
    "        #sets the parameters\n",
    "        self.setln(l,n)\n",
    "        \n",
    "        #starts regression\n",
    "        self.logres()\n",
    "        \n",
    "        #gets prediction\n",
    "        return self.predictMatrix(testData)\n",
    "\n",
    "    def setln(self,l,n):\n",
    "        self.l = l\n",
    "        self.n = n\n",
    "\n",
    "    def predictMatrix(self, testData):\n",
    "        ###uses the predict() fucntion to predict the labels of all data in testData\n",
    "        output = []\n",
    "        y = testData[:,testData.shape[1]-1]\n",
    "        testData = np.delete(testData,testData.shape[0],axis=1)\n",
    "        testData = np.hstack((np.ones((testData.shape[0],1)),testData))\n",
    "        temp = np.empty([1,61189])\n",
    "        \n",
    "        ##loops through data and gets prediction\n",
    "        for i in range(testData.shape[0]):\n",
    "            temp[0] = testData[i]\n",
    "            output.append(self.predict(temp))\n",
    "        return y,output\n",
    "        "
   ]
  },
  {
   "cell_type": "code",
   "execution_count": 5,
   "metadata": {},
   "outputs": [
    {
     "name": "stdout",
     "output_type": "stream",
     "text": [
      "looping\n",
      "looping\n",
      "looping\n",
      "looping\n",
      "looping\n",
      "looping\n",
      "looping\n",
      "looping\n",
      "looping\n",
      "looping\n",
      "looping\n",
      "looping\n",
      "done\n"
     ]
    }
   ],
   "source": [
    "lg = Logres()\n",
    "trainlocation = \"data/training.csv\"\n",
    "testLocation = \"data/testing.csv\"\n",
    "\n",
    "data = lg.readData(trainlocation)\n",
    "\n"
   ]
  },
  {
   "cell_type": "code",
   "execution_count": 6,
   "metadata": {},
   "outputs": [],
   "source": [
    "lg = Logres()\n"
   ]
  },
  {
   "cell_type": "code",
   "execution_count": 30,
   "metadata": {},
   "outputs": [],
   "source": [
    "y,output = lg.test(data[0:9000],0.05,1,data[9000:12000])"
   ]
  },
  {
   "cell_type": "code",
   "execution_count": 31,
   "metadata": {},
   "outputs": [],
   "source": [
    "def equals (a):\n",
    "    if (a[0]==a[1]):\n",
    "        return 1\n",
    "    else:\n",
    "        return 0"
   ]
  },
  {
   "cell_type": "code",
   "execution_count": 32,
   "metadata": {},
   "outputs": [
    {
     "data": {
      "text/plain": [
       "0.554"
      ]
     },
     "execution_count": 32,
     "metadata": {},
     "output_type": "execute_result"
    }
   ],
   "source": [
    "#calcualtes accuracy from the real and predicted values\n",
    "sum(list(map(equals,zip(y,output))))/len(y)"
   ]
  },
  {
   "cell_type": "code",
   "execution_count": 5,
   "metadata": {},
   "outputs": [],
   "source": [
    "def getPrediction(trainlocation = \"data/training.csv\",testLocation = \"data/testing.csv\"):\n",
    "    ### runs the data writes the prediction of testing in a csv file\n",
    "    lg = Logres()\n",
    "    data = lg.readData(trainlocation)\n",
    "    lg.setData(data)\n",
    "    lg.logres()\n",
    "    lg.predictTofile(testLocation)"
   ]
  },
  {
   "cell_type": "code",
   "execution_count": 6,
   "metadata": {},
   "outputs": [
    {
     "name": "stdout",
     "output_type": "stream",
     "text": [
      "looping\n",
      "looping\n",
      "looping\n",
      "looping\n",
      "looping\n",
      "looping\n",
      "looping\n",
      "looping\n",
      "looping\n",
      "looping\n",
      "looping\n",
      "looping\n",
      "done\n"
     ]
    },
    {
     "ename": "MemoryError",
     "evalue": "",
     "output_type": "error",
     "traceback": [
      "\u001b[0;31m---------------------------------------------------------------------------\u001b[0m",
      "\u001b[0;31mMemoryError\u001b[0m                               Traceback (most recent call last)",
      "\u001b[0;32m<ipython-input-6-a38e8e2cdbc5>\u001b[0m in \u001b[0;36m<module>\u001b[0;34m()\u001b[0m\n\u001b[0;32m----> 1\u001b[0;31m \u001b[0mgetPrediction\u001b[0m\u001b[0;34m(\u001b[0m\u001b[0;34m)\u001b[0m\u001b[0;34m\u001b[0m\u001b[0m\n\u001b[0m",
      "\u001b[0;32m<ipython-input-5-27500bac1a26>\u001b[0m in \u001b[0;36mgetPrediction\u001b[0;34m(trainlocation, testLocation)\u001b[0m\n\u001b[1;32m      3\u001b[0m     \u001b[0mlg\u001b[0m \u001b[0;34m=\u001b[0m \u001b[0mLogres\u001b[0m\u001b[0;34m(\u001b[0m\u001b[0;34m)\u001b[0m\u001b[0;34m\u001b[0m\u001b[0m\n\u001b[1;32m      4\u001b[0m     \u001b[0mdata\u001b[0m \u001b[0;34m=\u001b[0m \u001b[0mlg\u001b[0m\u001b[0;34m.\u001b[0m\u001b[0mreadData\u001b[0m\u001b[0;34m(\u001b[0m\u001b[0mtrainlocation\u001b[0m\u001b[0;34m)\u001b[0m\u001b[0;34m\u001b[0m\u001b[0m\n\u001b[0;32m----> 5\u001b[0;31m     \u001b[0mlg\u001b[0m\u001b[0;34m.\u001b[0m\u001b[0msetData\u001b[0m\u001b[0;34m(\u001b[0m\u001b[0mdata\u001b[0m\u001b[0;34m)\u001b[0m\u001b[0;34m\u001b[0m\u001b[0m\n\u001b[0m\u001b[1;32m      6\u001b[0m     \u001b[0mlg\u001b[0m\u001b[0;34m.\u001b[0m\u001b[0mlogres\u001b[0m\u001b[0;34m(\u001b[0m\u001b[0;34m)\u001b[0m\u001b[0;34m\u001b[0m\u001b[0m\n\u001b[1;32m      7\u001b[0m     \u001b[0mlg\u001b[0m\u001b[0;34m.\u001b[0m\u001b[0mpredictTofile\u001b[0m\u001b[0;34m(\u001b[0m\u001b[0mtestLocation\u001b[0m\u001b[0;34m)\u001b[0m\u001b[0;34m\u001b[0m\u001b[0m\n",
      "\u001b[0;32m<ipython-input-3-1ccc62e4a01b>\u001b[0m in \u001b[0;36msetData\u001b[0;34m(self, data)\u001b[0m\n\u001b[1;32m     41\u001b[0m         \u001b[0mself\u001b[0m\u001b[0;34m.\u001b[0m\u001b[0mrealY\u001b[0m \u001b[0;34m=\u001b[0m \u001b[0mdata\u001b[0m\u001b[0;34m[\u001b[0m\u001b[0;34m:\u001b[0m\u001b[0;34m,\u001b[0m\u001b[0mlength\u001b[0m\u001b[0;34m-\u001b[0m\u001b[0;36m1\u001b[0m\u001b[0;34m]\u001b[0m   \u001b[0;31m#label values\u001b[0m\u001b[0;34m\u001b[0m\u001b[0m\n\u001b[1;32m     42\u001b[0m         \u001b[0mdata\u001b[0m \u001b[0;34m=\u001b[0m \u001b[0mnp\u001b[0m\u001b[0;34m.\u001b[0m\u001b[0mdelete\u001b[0m\u001b[0;34m(\u001b[0m\u001b[0mdata\u001b[0m\u001b[0;34m,\u001b[0m\u001b[0mlength\u001b[0m\u001b[0;34m-\u001b[0m\u001b[0;36m1\u001b[0m\u001b[0;34m,\u001b[0m\u001b[0maxis\u001b[0m\u001b[0;34m=\u001b[0m\u001b[0;36m1\u001b[0m\u001b[0;34m)\u001b[0m  \u001b[0;31m#removes the last column\u001b[0m\u001b[0;34m\u001b[0m\u001b[0m\n\u001b[0;32m---> 43\u001b[0;31m         \u001b[0mdata\u001b[0m \u001b[0;34m=\u001b[0m \u001b[0mnp\u001b[0m\u001b[0;34m.\u001b[0m\u001b[0mhstack\u001b[0m\u001b[0;34m(\u001b[0m\u001b[0;34m(\u001b[0m\u001b[0mnp\u001b[0m\u001b[0;34m.\u001b[0m\u001b[0mones\u001b[0m\u001b[0;34m(\u001b[0m\u001b[0;34m(\u001b[0m\u001b[0mdata\u001b[0m\u001b[0;34m.\u001b[0m\u001b[0mshape\u001b[0m\u001b[0;34m[\u001b[0m\u001b[0;36m0\u001b[0m\u001b[0;34m]\u001b[0m\u001b[0;34m,\u001b[0m\u001b[0;36m1\u001b[0m\u001b[0;34m)\u001b[0m\u001b[0;34m)\u001b[0m\u001b[0;34m,\u001b[0m\u001b[0mdata\u001b[0m\u001b[0;34m)\u001b[0m\u001b[0;34m)\u001b[0m \u001b[0;31m#adds i in the first column\u001b[0m\u001b[0;34m\u001b[0m\u001b[0m\n\u001b[0m\u001b[1;32m     44\u001b[0m \u001b[0;34m\u001b[0m\u001b[0m\n\u001b[1;32m     45\u001b[0m         \u001b[0;31m#creates delta matrix\u001b[0m\u001b[0;34m\u001b[0m\u001b[0;34m\u001b[0m\u001b[0m\n",
      "\u001b[0;32m~/.local/lib/python3.5/site-packages/numpy/core/shape_base.py\u001b[0m in \u001b[0;36mhstack\u001b[0;34m(tup)\u001b[0m\n\u001b[1;32m    286\u001b[0m         \u001b[0;32mreturn\u001b[0m \u001b[0m_nx\u001b[0m\u001b[0;34m.\u001b[0m\u001b[0mconcatenate\u001b[0m\u001b[0;34m(\u001b[0m\u001b[0marrs\u001b[0m\u001b[0;34m,\u001b[0m \u001b[0;36m0\u001b[0m\u001b[0;34m)\u001b[0m\u001b[0;34m\u001b[0m\u001b[0m\n\u001b[1;32m    287\u001b[0m     \u001b[0;32melse\u001b[0m\u001b[0;34m:\u001b[0m\u001b[0;34m\u001b[0m\u001b[0m\n\u001b[0;32m--> 288\u001b[0;31m         \u001b[0;32mreturn\u001b[0m \u001b[0m_nx\u001b[0m\u001b[0;34m.\u001b[0m\u001b[0mconcatenate\u001b[0m\u001b[0;34m(\u001b[0m\u001b[0marrs\u001b[0m\u001b[0;34m,\u001b[0m \u001b[0;36m1\u001b[0m\u001b[0;34m)\u001b[0m\u001b[0;34m\u001b[0m\u001b[0m\n\u001b[0m\u001b[1;32m    289\u001b[0m \u001b[0;34m\u001b[0m\u001b[0m\n\u001b[1;32m    290\u001b[0m \u001b[0;34m\u001b[0m\u001b[0m\n",
      "\u001b[0;31mMemoryError\u001b[0m: "
     ]
    }
   ],
   "source": [
    "getPrediction()"
   ]
  },
  {
   "cell_type": "code",
   "execution_count": null,
   "metadata": {},
   "outputs": [],
   "source": []
  }
 ],
 "metadata": {
  "kernelspec": {
   "display_name": "Python 3",
   "language": "python",
   "name": "python3"
  },
  "language_info": {
   "codemirror_mode": {
    "name": "ipython",
    "version": 3
   },
   "file_extension": ".py",
   "mimetype": "text/x-python",
   "name": "python",
   "nbconvert_exporter": "python",
   "pygments_lexer": "ipython3",
   "version": "3.5.2"
  }
 },
 "nbformat": 4,
 "nbformat_minor": 2
}
